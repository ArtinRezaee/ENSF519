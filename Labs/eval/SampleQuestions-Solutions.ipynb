{
 "cells": [
  {
   "cell_type": "markdown",
   "metadata": {},
   "source": [
    "<h1> <center> ENSF 519.01 Applied Data Scince </center></h1>\n",
    "<h2> <center> Solutions for the sample questions on feature engineering and model evaluation</center></h2>"
   ]
  },
  {
   "cell_type": "markdown",
   "metadata": {},
   "source": [
    "<h1>Part A. Feature Selection </h1>\n",
    "<br>\n",
    "\n",
    "In this section, we are going to select the most informative features from the NASA dataset."
   ]
  },
  {
   "cell_type": "markdown",
   "metadata": {},
   "source": [
    "\n",
    "<h2>Part A.1. Feature selection using ANOVA </h2>\n",
    "\n",
    "Steps:\n",
    "    \n",
    "- Read data from the NASA.csv\n",
    "- Using ANOVA select top K features, whith K=[1..10]\n",
    "- Build LogisticRegression models, one with the original data, and one for each K (using a subset of feature)\n",
    "- Compare the accuracies and find the best K (use random_state=0)\n"
   ]
  },
  {
   "cell_type": "code",
   "execution_count": 1,
   "metadata": {},
   "outputs": [
    {
     "name": "stderr",
     "output_type": "stream",
     "text": [
      "/usr/local/lib/python3.7/site-packages/sklearn/linear_model/logistic.py:432: FutureWarning: Default solver will be changed to 'lbfgs' in 0.22. Specify a solver to silence this warning.\n",
      "  FutureWarning)\n",
      "/usr/local/lib/python3.7/site-packages/sklearn/linear_model/logistic.py:432: FutureWarning: Default solver will be changed to 'lbfgs' in 0.22. Specify a solver to silence this warning.\n",
      "  FutureWarning)\n",
      "/usr/local/lib/python3.7/site-packages/sklearn/linear_model/logistic.py:432: FutureWarning: Default solver will be changed to 'lbfgs' in 0.22. Specify a solver to silence this warning.\n",
      "  FutureWarning)\n",
      "/usr/local/lib/python3.7/site-packages/sklearn/linear_model/logistic.py:432: FutureWarning: Default solver will be changed to 'lbfgs' in 0.22. Specify a solver to silence this warning.\n",
      "  FutureWarning)\n",
      "/usr/local/lib/python3.7/site-packages/sklearn/linear_model/logistic.py:432: FutureWarning: Default solver will be changed to 'lbfgs' in 0.22. Specify a solver to silence this warning.\n",
      "  FutureWarning)\n",
      "/usr/local/lib/python3.7/site-packages/sklearn/linear_model/logistic.py:432: FutureWarning: Default solver will be changed to 'lbfgs' in 0.22. Specify a solver to silence this warning.\n",
      "  FutureWarning)\n",
      "/usr/local/lib/python3.7/site-packages/sklearn/linear_model/logistic.py:432: FutureWarning: Default solver will be changed to 'lbfgs' in 0.22. Specify a solver to silence this warning.\n",
      "  FutureWarning)\n"
     ]
    },
    {
     "name": "stdout",
     "output_type": "stream",
     "text": [
      "LogisReg:  0.7975334018499486\n",
      "ANOVA k=1:  0.7954779033915724\n",
      "ANOVA k=2:  0.7954779033915724\n",
      "ANOVA k=3:  0.7949640287769785\n",
      "ANOVA k=4:  0.7944501541623844\n",
      "ANOVA k=5:  0.7954779033915724\n",
      "ANOVA k=6:  0.7959917780061665\n",
      "ANOVA k=7:  0.7959917780061665\n",
      "ANOVA k=8:  0.7965056526207606\n",
      "ANOVA k=9:  0.7965056526207606\n",
      "ANOVA k=10:  0.7949640287769785\n"
     ]
    },
    {
     "name": "stderr",
     "output_type": "stream",
     "text": [
      "/usr/local/lib/python3.7/site-packages/sklearn/linear_model/logistic.py:432: FutureWarning: Default solver will be changed to 'lbfgs' in 0.22. Specify a solver to silence this warning.\n",
      "  FutureWarning)\n",
      "/usr/local/lib/python3.7/site-packages/sklearn/linear_model/logistic.py:432: FutureWarning: Default solver will be changed to 'lbfgs' in 0.22. Specify a solver to silence this warning.\n",
      "  FutureWarning)\n",
      "/usr/local/lib/python3.7/site-packages/sklearn/linear_model/logistic.py:432: FutureWarning: Default solver will be changed to 'lbfgs' in 0.22. Specify a solver to silence this warning.\n",
      "  FutureWarning)\n",
      "/usr/local/lib/python3.7/site-packages/sklearn/linear_model/logistic.py:432: FutureWarning: Default solver will be changed to 'lbfgs' in 0.22. Specify a solver to silence this warning.\n",
      "  FutureWarning)\n"
     ]
    }
   ],
   "source": [
    "## Part A.1 ANOVA \n",
    "\n",
    "## Part A.1 Solution\n",
    "\n",
    "import pandas as pd\n",
    "from sklearn.feature_selection import SelectKBest\n",
    "from sklearn.model_selection import train_test_split\n",
    "from sklearn.linear_model import LogisticRegression\n",
    "%matplotlib inline\n",
    "\n",
    "def CSV_Reader(Filename):\n",
    "  data_target=pd.read_csv(Filename)\n",
    "  return [data_target.iloc[:,:-1],data_target.iloc[:,-1]]\n",
    "\n",
    "features,lables=CSV_Reader(\"NasaData.csv\")\n",
    "\n",
    "X_train, X_test, y_train, y_test = train_test_split(features, lables, random_state=0, test_size=.25)\n",
    "\n",
    "lr = LogisticRegression().fit(X_train, y_train)\n",
    "print(\"LogisReg: \",lr.score(X_test, y_test))\n",
    "\n",
    "for K in range(1,11):\n",
    "\n",
    "    ANOVA_select = SelectKBest(k=K).fit(X_train, y_train)\n",
    "    X_train_selected = ANOVA_select.transform(X_train)\n",
    "    X_test_selected = ANOVA_select.transform(X_test)\n",
    "    slr = LogisticRegression().fit(X_train_selected, y_train)\n",
    "    print(\"ANOVA k=\"+str(K)+\": \", slr.score(X_test_selected, y_test))\n",
    "        \n",
    "\n",
    "\n"
   ]
  },
  {
   "cell_type": "markdown",
   "metadata": {},
   "source": [
    "<h2>Part A.2. Compare feature selection models </h2>\n",
    "\n",
    "Now apply SelectFromModel and RFE and compare them with SelectKBest, as follows:\n",
    "\n",
    "- Apply the three techniques so that you reduce the features to only 6 features (note that 6 is not necessarily the best K from Part A.1)\n",
    "- Report the prediction scores of a LogisticRegression model on the selected features of each model.\n",
    "- Print the name of features selected by each model.\n"
   ]
  },
  {
   "cell_type": "code",
   "execution_count": 2,
   "metadata": {},
   "outputs": [
    {
     "name": "stdout",
     "output_type": "stream",
     "text": [
      "\t**** ANOVA ****\n",
      "Features selected: **['LOC_BLANK', 'HALSTEAD_CONTENT', 'HALSTEAD_LENGTH', 'NUM_OPERANDS', 'NUM_UNIQUE_OPERANDS', 'LOC_TOTAL']**\n",
      "** Test score: 0.796 **\n",
      "**Data shape after selection: (5836, 6)**\n",
      "\n",
      "\n"
     ]
    },
    {
     "name": "stderr",
     "output_type": "stream",
     "text": [
      "/usr/local/lib/python3.7/site-packages/sklearn/linear_model/logistic.py:432: FutureWarning: Default solver will be changed to 'lbfgs' in 0.22. Specify a solver to silence this warning.\n",
      "  FutureWarning)\n"
     ]
    },
    {
     "name": "stdout",
     "output_type": "stream",
     "text": [
      "\t**** selectFromModel ****\n",
      "Features selected: **['LOC_EXECUTABLE', 'HALSTEAD_CONTENT', 'HALSTEAD_EFFORT', 'HALSTEAD_PROG_TIME', 'HALSTEAD_VOLUME', 'LOC_TOTAL']**\n",
      "** Test score: 0.793 **\n",
      "**Data shape after selection: (5836, 6)**\n",
      "\n",
      "\n"
     ]
    },
    {
     "name": "stderr",
     "output_type": "stream",
     "text": [
      "/usr/local/lib/python3.7/site-packages/sklearn/linear_model/logistic.py:432: FutureWarning: Default solver will be changed to 'lbfgs' in 0.22. Specify a solver to silence this warning.\n",
      "  FutureWarning)\n"
     ]
    },
    {
     "name": "stdout",
     "output_type": "stream",
     "text": [
      "\t**** RFEselect ****\n",
      "Features selected: **['HALSTEAD_CONTENT', 'HALSTEAD_DIFFICULTY', 'HALSTEAD_EFFORT', 'HALSTEAD_PROG_TIME', 'HALSTEAD_VOLUME', 'LOC_TOTAL']**\n",
      "** Test score: 0.793 **\n",
      "**Data shape after selection: (5836, 6)**\n",
      "\n",
      "\n"
     ]
    },
    {
     "name": "stderr",
     "output_type": "stream",
     "text": [
      "/usr/local/lib/python3.7/site-packages/sklearn/linear_model/logistic.py:432: FutureWarning: Default solver will be changed to 'lbfgs' in 0.22. Specify a solver to silence this warning.\n",
      "  FutureWarning)\n"
     ]
    },
    {
     "data": {
      "image/png": "[encoded data removed]",
      "text/plain": [
       "<Figure size 1152x144 with 1 Axes>"
      ]
     },
     "metadata": {
      "needs_background": "light"
     },
     "output_type": "display_data"
    },
    {
     "data": {
      "image/png": "[encoded data removed]",
      "text/plain": [
       "<Figure size 1152x144 with 1 Axes>"
      ]
     },
     "metadata": {
      "needs_background": "light"
     },
     "output_type": "display_data"
    },
    {
     "data": {
      "image/png": "[encoded data removed]",
      "text/plain": [
       "<Figure size 1152x144 with 1 Axes>"
      ]
     },
     "metadata": {
      "needs_background": "light"
     },
     "output_type": "display_data"
    }
   ],
   "source": [
    "## Part A.2 Compare feature selection models \n",
    "\n",
    "import numpy as np\n",
    "import matplotlib.pyplot as plt\n",
    "from sklearn.feature_selection import SelectFromModel\n",
    "from sklearn.ensemble import RandomForestClassifier\n",
    "from sklearn.feature_selection import RFE\n",
    "\n",
    "def plot_selection(selectFeature,funcName,X_train, X_test, y_train, y_test):\n",
    "    mask = selectFeature.get_support()\n",
    "    print(\"\\t**** \"+funcName+\" ****\")\n",
    "    print(\"Features selected: **{}**\".format([list(features.columns.values)[i] for i in np.where(mask == True)[0]]))\n",
    "    plt.matshow(mask.reshape(1, -1), cmap='gray_r')\n",
    "    plt.xlabel(funcName)\n",
    "    plt.yticks(())\n",
    "\n",
    "    X_train_transformed = selectFeature.transform(X_train)\n",
    "    X_test_transformed = selectFeature.transform(X_test)\n",
    "    score = LogisticRegression().fit(X_train_transformed, y_train).score(X_test_transformed, y_test)\n",
    "    print(\"** Test score: {:.3f} **\".format(score))\n",
    "    print(\"**Data shape after selection: {}**\\n\\n\".format(X_train_transformed.shape))\n",
    "    \n",
    "    \n",
    "features,lables=CSV_Reader(\"NasaData.csv\")\n",
    "X_train, X_test, y_train, y_test = train_test_split(features, lables, random_state=0, test_size=.25)\n",
    "\n",
    "ANOVA_select = SelectKBest(k=6).fit(X_train, y_train)\n",
    "plot_selection(ANOVA_select,\"ANOVA\",X_train, X_test, y_train, y_test)\n",
    "\n",
    "selectFModel = SelectFromModel(RandomForestClassifier(n_estimators=100, random_state=0),threshold=\"1.25*mean\").fit(X_train, y_train)\n",
    "plot_selection(selectFModel,\"selectFromModel\",X_train, X_test, y_train, y_test)\n",
    "\n",
    "RFEselect = RFE(RandomForestClassifier(n_estimators=100, random_state=0),n_features_to_select=6).fit(X_train, y_train)\n",
    "plot_selection(RFEselect,\"RFEselect\",X_train, X_test, y_train, y_test)\n"
   ]
  },
  {
   "cell_type": "markdown",
   "metadata": {},
   "source": [
    "<h1>Part B. Data Tranformation </h1>\n",
    "\n",
    "In this part, you are going to work with a new data set which contains some the features of a house collected over time. \n",
    "The objective of this part is to help improve linear model's predicitons using data transformation."
   ]
  },
  {
   "cell_type": "markdown",
   "metadata": {},
   "source": [
    "<h2>Part B.1 Binning </h2>\n",
    "\n",
    "Our first try is using binning, as follows:\n",
    "\n",
    "- Read form MyHouse.csv (take 'Light' as the data target and the rest of the columns as data features ) \n",
    "- First apply a LinearRegression on the original data to predict the target and report the score of the model on the test set. \n",
    "- Now apply binning on all three columns \n",
    " (for Temperature make 5 Bins -- for Humidity make 10 bins -- and for CO2Bins make 11 bins)\n",
    "- Print your data shape before and after binning.\n",
    "- Now again apply LinearRegression on the new data and report the score again. \n",
    "\n"
   ]
  },
  {
   "cell_type": "code",
   "execution_count": 8,
   "metadata": {},
   "outputs": [
    {
     "name": "stdout",
     "output_type": "stream",
     "text": [
      "** Test score before Binning: 0.675 **\n",
      "**Data shape before Binning: (1998, 3)**\n",
      "\n",
      "\n",
      "** Test score after Binning: 0.816 **\n",
      "**Data shape after Binning: (1998, 26)**\n",
      "\n",
      "\n"
     ]
    },
    {
     "name": "stderr",
     "output_type": "stream",
     "text": [
      "/Users/hemmati/anaconda3/lib/python3.6/site-packages/scipy/linalg/basic.py:1226: RuntimeWarning: internal gelsd driver lwork query error, required iwork dimension not returned. This is likely the result of LAPACK bug 0038, fixed in LAPACK 3.2.2 (released July 21, 2010). Falling back to 'gelss' driver.\n",
      "  warnings.warn(mesg, RuntimeWarning)\n"
     ]
    }
   ],
   "source": [
    "## Part B.1 Compare feature selection models \n",
    "\n",
    "\n",
    "from sklearn.preprocessing import OneHotEncoder\n",
    "from sklearn.linear_model import LinearRegression\n",
    "\n",
    "def Evaluate(features_one,features_two,lables,FunctionName):\n",
    "    X_train_one, X_test_one, y_train_one, y_test_one = train_test_split(features_one, lables, random_state=0, test_size=.25)\n",
    "    X_train_two, X_test_two, y_train_two, y_test_two = train_test_split(features_two, lables, random_state=0, test_size=.25)\n",
    "\n",
    "    score_one = LinearRegression().fit(X_train_one, y_train_one).score(X_test_one, y_test_one)\n",
    "    score_two = LinearRegression().fit(X_train_two, y_train_two).score(X_test_two, y_test_two)\n",
    "\n",
    "    print(\"** Test score before \"+FunctionName+\": {:.3f} **\".format(score_one))\n",
    "    print(\"**Data shape before \"+FunctionName+\": {}**\\n\\n\".format(X_train_one.shape))\n",
    "    \n",
    "    print(\"** Test score after \"+FunctionName+\": {:.3f} **\".format(score_two))\n",
    "    print(\"**Data shape after \"+FunctionName+\": {}**\\n\\n\".format(X_train_two.shape))\n",
    "    \n",
    "features,lables=CSV_Reader(\"MyHouse.csv\")\n",
    "\n",
    "TemperatureBins = np.linspace(20, 25, 6)\n",
    "HumidityBins = np.linspace(22, 32, 11)\n",
    "CO2Bins = np.linspace(400,1500,12)\n",
    "\n",
    "features['Temperature'] = np.digitize(features['Temperature'], bins=TemperatureBins)\n",
    "features['Humidity'] = np.digitize(features['Humidity'], bins=HumidityBins)\n",
    "features['CO2'] = np.digitize(features['CO2'], bins=CO2Bins)\n",
    "\n",
    "TemperatureEncoder = OneHotEncoder(sparse=False)\n",
    "TemperatureEncoder.fit(features['Temperature'].values.reshape(-1, 1))\n",
    "TemperatureBinned = pd.DataFrame(TemperatureEncoder.transform(features['Temperature'].values.reshape(-1, 1)))\n",
    "TemperatureBinned.columns = [\"Temperature:\"+str(i)+\"to\"+str(i+1) for i in range(20, 25)]\n",
    "\n",
    "HumidityEncoder = OneHotEncoder(sparse=False)\n",
    "HumidityEncoder.fit(features['Humidity'].values.reshape(-1, 1))\n",
    "HumidityBinned = pd.DataFrame(HumidityEncoder.transform(features['Humidity'].values.reshape(-1, 1)))\n",
    "HumidityBinned.columns = [\"Humidity:\"+str(i)+\"to\"+str(i+10) for i in range(22, 32, 1)]\n",
    "\n",
    "\n",
    "CO2Encoder = OneHotEncoder(sparse=False)\n",
    "CO2Encoder.fit(features['CO2'].values.reshape(-1, 1))\n",
    "CO2Binned = pd.DataFrame(CO2Encoder.transform(features['CO2'].values.reshape(-1, 1)))\n",
    "CO2Binned.columns = [\"CO2:\"+str(i)+\"to\"+str(i+100) for i in range(400,1500,100)]\n",
    "\n",
    "binnedFeatures=pd.concat([TemperatureBinned,HumidityBinned,CO2Binned], axis=1)\n",
    "\n",
    "Evaluate(features,binnedFeatures,lables,\"Binning\")"
   ]
  },
  {
   "cell_type": "markdown",
   "metadata": {},
   "source": [
    "<h2>Part B.2 Polynomials </h2>\n",
    "\n",
    "To compare polynomials and binning, apply polynomials on all three features. \n",
    "- Use degree=6.\n",
    "- Print your data shape before and after transformation\n",
    "- Apply LinearRegression on the new data and report the score again. \n"
   ]
  },
  {
   "cell_type": "code",
   "execution_count": 9,
   "metadata": {},
   "outputs": [
    {
     "name": "stdout",
     "output_type": "stream",
     "text": [
      "** Test score before polynomial: 0.692 **\n",
      "**Data shape before polynomial: (1998, 3)**\n",
      "\n",
      "\n",
      "** Test score after polynomial: 0.814 **\n",
      "**Data shape after polynomial: (1998, 18)**\n",
      "\n",
      "\n"
     ]
    }
   ],
   "source": [
    "## Part B.2 Compare feature selection models \n",
    "\n",
    "from sklearn.preprocessing import PolynomialFeatures\n",
    "from sklearn.svm import LinearSVC\n",
    "from sklearn.linear_model import LinearRegression\n",
    "\n",
    "\n",
    "features,lables=CSV_Reader(\"MyHouse.csv\")\n",
    "\n",
    "TemperaturePoly = PolynomialFeatures(degree=6, include_bias=False).fit(features['Temperature'].values.reshape(-1, 1))\n",
    "Temperature_poly_transformed = pd.DataFrame(TemperaturePoly.transform(features['Temperature'].values.reshape(-1, 1)))\n",
    "Temperature_poly_transformed.columns = [\"Temperature^\"+str(i) for i in range(1,7)]\n",
    "\n",
    "HumidityPoly = PolynomialFeatures(degree=6, include_bias=False).fit(features['Humidity'].values.reshape(-1, 1))\n",
    "Humidity_poly_transformed = pd.DataFrame(HumidityPoly.transform(features['Humidity'].values.reshape(-1, 1)))\n",
    "Humidity_poly_transformed.columns = [\"Humidity^\"+str(i) for i in range(1,7)]\n",
    "\n",
    "CO2Poly = PolynomialFeatures(degree=6, include_bias=False).fit(features['CO2'].values.reshape(-1, 1))\n",
    "CO2_poly_transformed = pd.DataFrame(CO2Poly.transform(features['CO2'].values.reshape(-1, 1)))\n",
    "CO2_poly_transformed.columns = [\"CO2^\"+str(i) for i in range(1,7)]\n",
    "\n",
    "Features_poly_transformed=pd.concat([Temperature_poly_transformed,Humidity_poly_transformed,CO2_poly_transformed], axis=1)\n",
    "\n",
    "Evaluate(features,Features_poly_transformed,lables,\"polynomial\")"
   ]
  },
  {
   "cell_type": "code",
   "execution_count": null,
   "metadata": {
    "collapsed": true,
    "jupyter": {
     "outputs_hidden": true
    }
   },
   "outputs": [],
   "source": []
  }
 ],
 "metadata": {
  "kernelspec": {
   "display_name": "Python 3",
   "language": "python",
   "name": "python3"
  },
  "language_info": {
   "codemirror_mode": {
    "name": "ipython",
    "version": 3
   },
   "file_extension": ".py",
   "mimetype": "text/x-python",
   "name": "python",
   "nbconvert_exporter": "python",
   "pygments_lexer": "ipython3",
   "version": "3.7.4"
  }
 },
 "nbformat": 4,
 "nbformat_minor": 4
}
