{
 "cells": [
  {
   "cell_type": "code",
   "execution_count": 8,
   "metadata": {},
   "outputs": [
    {
     "name": "stdout",
     "output_type": "stream",
     "text": [
      "ucalgary.ca\n"
     ]
    }
   ],
   "source": [
    "baseStr = 'From hadi.hemmati@ucalgary.ca Tue Jan 15 15:30:00 2019'\n",
    "startIndex = baseStr.find('ucalgary') \n",
    "endIndex = baseStr.find('.ca', startIndex) + 3\n",
    "extracted =baseStr[startIndex:endIndex]\n",
    "print(extracted)\n"
   ]
  },
  {
   "cell_type": "code",
   "execution_count": 12,
   "metadata": {
    "scrolled": true
   },
   "outputs": [
    {
     "name": "stdout",
     "output_type": "stream",
     "text": [
      "say something: How are you?\n",
      "say something else: I am fine\n",
      "['HowI', 'aream', 'you?fine']\n"
     ]
    }
   ],
   "source": [
    "express1 = input('say something: ')\n",
    "express2 = input('say something else: ')\n",
    "\n",
    "list1 = express1.split()\n",
    "list2 = express2.split()\n",
    "\n",
    "zippedList = [m+str(n) for m,n in zip(list1,list2)]\n",
    "\n",
    "print(zippedList)"
   ]
  },
  {
   "cell_type": "code",
   "execution_count": 1,
   "metadata": {},
   "outputs": [
    {
     "name": "stdout",
     "output_type": "stream",
     "text": [
      "/Users/Artin/Desktop/University/Fifth year/Fall 2019/ENSF 519/Labs/Lab0\r\n"
     ]
    }
   ],
   "source": [
    "!pwd"
   ]
  },
  {
   "cell_type": "code",
   "execution_count": 3,
   "metadata": {},
   "outputs": [
    {
     "name": "stdout",
     "output_type": "stream",
     "text": [
      "[('the', 90), ('of', 69), ('a', 66), ('and', 64), ('to', 52), ('I', 46), ('his', 41), ('you', 31), ('in', 30), ('was', 26)]\n"
     ]
    }
   ],
   "source": [
    "from collections import Counter\n",
    "\n",
    "words = []\n",
    "f = open('sample.txt')\n",
    "for word in f.read().split():\n",
    "    words.append(word)\n",
    "\n",
    "word_counts = Counter(words)\n",
    "top_ten = word_counts.most_common(10)\n",
    "print(top_ten)"
   ]
  },
  {
   "cell_type": "code",
   "execution_count": 14,
   "metadata": {},
   "outputs": [
    {
     "name": "stdout",
     "output_type": "stream",
     "text": [
      "As he spoke there was the sharp sound of horses' hoofs and grating wheels against the curb, followed by a sharp pull at the bell. Holmes whistled.\n",
      "\n",
      "A slow and heavy step, which had been heard upon the stairs and in the passage, paused immediately outside the door. Then there was a loud and authoritative tap.\n",
      "\n",
      "A man entered who could hardly have been less than six feet six inches in height, with the chest and limbs of a Hercules. His dress was rich with a richness which would, in England, be looked upon as akin to bad taste. Heavy bands of astrakhan were slashed across the sleeves and fronts of his double-breasted coat, while the deep blue cloak which was thrown over his shoulders was lined with flame-coloured silk and secured at the neck with a brooch which consisted of a single flaming beryl. Boots which extended halfway up his calves, and which were trimmed at the tops with rich brown fur, completed the impression of barbaric opulence which was suggested by his whole appearance. He carried a broad-brimmed hat in his hand, while he wore across the upper part of his face, extending down past the cheekbones, a black vizard mask, which he had apparently adjusted that very moment, for his hand was still raised to it as he entered. From the lower part of the face he appeared to be a man of strong character, with a thick, hanging lip, and a long, straight chin suggestive of resolution pushed to the length of obstinacy.\n",
      "\n"
     ]
    }
   ],
   "source": [
    "f = open('sample.txt')\n",
    "while True:\n",
    "    line = f.readline()\n",
    "    if line.startswith('A'):\n",
    "        print(line)\n",
    "    if not line:\n",
    "        break\n",
    "f.close()"
   ]
  },
  {
   "cell_type": "code",
   "execution_count": null,
   "metadata": {},
   "outputs": [],
   "source": []
  }
 ],
 "metadata": {
  "kernelspec": {
   "display_name": "Python 3",
   "language": "python",
   "name": "python3"
  },
  "language_info": {
   "codemirror_mode": {
    "name": "ipython",
    "version": 3
   },
   "file_extension": ".py",
   "mimetype": "text/x-python",
   "name": "python",
   "nbconvert_exporter": "python",
   "pygments_lexer": "ipython3",
   "version": "3.6.2"
  }
 },
 "nbformat": 4,
 "nbformat_minor": 2
}
